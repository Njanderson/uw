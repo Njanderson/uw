{
 "cells": [
  {
   "cell_type": "code",
   "execution_count": 1,
   "metadata": {},
   "outputs": [],
   "source": [
    "import pandas"
   ]
  },
  {
   "cell_type": "code",
   "execution_count": 2,
   "metadata": {},
   "outputs": [],
   "source": [
    "gpa = pandas.read_csv('gpa.csv')"
   ]
  },
  {
   "cell_type": "code",
   "execution_count": 4,
   "metadata": {},
   "outputs": [],
   "source": [
    "dept_num = gpa.Course.str.extract(r'(\\D+) (\\d+)', expand=True)"
   ]
  },
  {
   "cell_type": "code",
   "execution_count": 5,
   "metadata": {},
   "outputs": [],
   "source": [
    "dept_num.columns = ['Department', 'Course Number']"
   ]
  },
  {
   "cell_type": "code",
   "execution_count": 6,
   "metadata": {},
   "outputs": [],
   "source": [
    "gpa = pandas.concat([dept_num, gpa.drop(['Course'], axis=1)], axis=1)"
   ]
  },
  {
   "cell_type": "code",
   "execution_count": 8,
   "metadata": {},
   "outputs": [],
   "source": [
    "import matplotlib.pyplot as plt"
   ]
  },
  {
   "cell_type": "code",
   "execution_count": 31,
   "metadata": {},
   "outputs": [],
   "source": [
    "quarter_mapping = {\"Fall\" : 0, \"Win\" : 1, \"Spr\" : 2, \"Sum\": 3 }"
   ]
  },
  {
   "cell_type": "code",
   "execution_count": 104,
   "metadata": {},
   "outputs": [
    {
     "name": "stderr",
     "output_type": "stream",
     "text": [
      "C:\\Users\\Njand\\Anaconda3\\lib\\site-packages\\ipykernel_launcher.py:1: SettingWithCopyWarning: \n",
      "A value is trying to be set on a copy of a slice from a DataFrame.\n",
      "Try using .loc[row_indexer,col_indexer] = value instead\n",
      "\n",
      "See the caveats in the documentation: http://pandas.pydata.org/pandas-docs/stable/indexing.html#indexing-view-versus-copy\n",
      "  \"\"\"Entry point for launching an IPython kernel.\n"
     ]
    }
   ],
   "source": [
    "gpa[\"QuarterOrd\"] = gpa.Quarter.apply(quarter_mapping.get)"
   ]
  },
  {
   "cell_type": "code",
   "execution_count": 11,
   "metadata": {},
   "outputs": [],
   "source": [
    "gpa = gpa[gpa.Grade.str.match(r'[^\\D]')]"
   ]
  },
  {
   "cell_type": "code",
   "execution_count": 12,
   "metadata": {},
   "outputs": [
    {
     "name": "stderr",
     "output_type": "stream",
     "text": [
      "C:\\Users\\Njand\\Anaconda3\\lib\\site-packages\\pandas\\core\\generic.py:3643: SettingWithCopyWarning: \n",
      "A value is trying to be set on a copy of a slice from a DataFrame.\n",
      "Try using .loc[row_indexer,col_indexer] = value instead\n",
      "\n",
      "See the caveats in the documentation: http://pandas.pydata.org/pandas-docs/stable/indexing.html#indexing-view-versus-copy\n",
      "  self[name] = value\n"
     ]
    }
   ],
   "source": [
    "gpa.Grade = gpa.Grade.astype('float')"
   ]
  },
  {
   "cell_type": "code",
   "execution_count": 13,
   "metadata": {},
   "outputs": [
    {
     "data": {
      "text/plain": [
       "Department        object\n",
       "Course Number     object\n",
       "Course  Title     object\n",
       "Credits            int64\n",
       "Grade            float64\n",
       "Grade Points     float64\n",
       "Quarter           object\n",
       "Year               int64\n",
       "dtype: object"
      ]
     },
     "execution_count": 13,
     "metadata": {},
     "output_type": "execute_result"
    }
   ],
   "source": [
    "gpa.dtypes"
   ]
  },
  {
   "cell_type": "code",
   "execution_count": 14,
   "metadata": {},
   "outputs": [
    {
     "data": {
      "text/plain": [
       "<matplotlib.axes._subplots.AxesSubplot at 0x1f86aaadcc0>"
      ]
     },
     "execution_count": 14,
     "metadata": {},
     "output_type": "execute_result"
    },
    {
     "data": {
      "image/png": "[encoded data removed]",
      "text/plain": [
       "<matplotlib.figure.Figure at 0x1f86a8b4080>"
      ]
     },
     "metadata": {},
     "output_type": "display_data"
    }
   ],
   "source": [
    "gpa.plot(x=['Year', 'Quarter'], y='Grade', title='GPA over Time', sharex=\"False\")"
   ]
  },
  {
   "cell_type": "code",
   "execution_count": 62,
   "metadata": {},
   "outputs": [],
   "source": [
    "gpa_per_quarter = gpa.groupby(['Year', 'QuarterOrd', \"Quarter\"]).apply(\n",
    "    lambda x: (x['Grade'] * x['Credits']).sum() / x['Credits'].sum()\n",
    ")"
   ]
  },
  {
   "cell_type": "code",
   "execution_count": 55,
   "metadata": {},
   "outputs": [
    {
     "data": {
      "text/plain": [
       "Year  QuarterOrd  Quarter\n",
       "2013  0           Fall       4.000000\n",
       "2014  0           Fall       3.727273\n",
       "      1           Win        3.733333\n",
       "      2           Spr        3.805882\n",
       "      3           Sum        3.863636\n",
       "2015  0           Fall       3.786667\n",
       "      1           Win        3.728571\n",
       "      2           Spr        4.000000\n",
       "      3           Sum        4.000000\n",
       "2016  0           Fall       4.000000\n",
       "      1           Win        4.000000\n",
       "      2           Spr        4.000000\n",
       "2017  0           Fall       4.000000\n",
       "      1           Win        3.663636\n",
       "      2           Spr        3.923529\n",
       "2018  1           Win        3.591667\n",
       "      2           Spr        3.900000\n",
       "dtype: float64"
      ]
     },
     "execution_count": 55,
     "metadata": {},
     "output_type": "execute_result"
    }
   ],
   "source": [
    "gpa_per_quarter"
   ]
  },
  {
   "cell_type": "code",
   "execution_count": 56,
   "metadata": {},
   "outputs": [
    {
     "data": {
      "text/plain": [
       "<matplotlib.axes._subplots.AxesSubplot at 0x1f86c42ae48>"
      ]
     },
     "execution_count": 56,
     "metadata": {},
     "output_type": "execute_result"
    },
    {
     "data": {
      "image/png": "[encoded data removed]",
      "text/plain": [
       "<matplotlib.figure.Figure at 0x1f86b24a978>"
      ]
     },
     "metadata": {},
     "output_type": "display_data"
    }
   ],
   "source": [
    "gpa_per_quarter.plot()"
   ]
  },
  {
   "cell_type": "code",
   "execution_count": 17,
   "metadata": {},
   "outputs": [],
   "source": [
    "school_calendar_mapping = {2014: \"Fre\", 2015: \"Sop\", 2016: \"Jun\", 2017: \"Sen\", 2018: \"Mas\"}"
   ]
  },
  {
   "cell_type": "code",
   "execution_count": 18,
   "metadata": {},
   "outputs": [
    {
     "data": {
      "text/plain": [
       "0      Mas\n",
       "1      Mas\n",
       "2      Mas\n",
       "4      Mas\n",
       "5      Mas\n",
       "6      Mas\n",
       "7      Sen\n",
       "8      Sen\n",
       "11     Sen\n",
       "12     Sen\n",
       "13     Sen\n",
       "14     Sen\n",
       "15     Sen\n",
       "16     Sen\n",
       "18     Sen\n",
       "19     Jun\n",
       "20     Jun\n",
       "21     Jun\n",
       "22     Jun\n",
       "23     Jun\n",
       "24     Jun\n",
       "25     Jun\n",
       "26     Sop\n",
       "27     Sop\n",
       "28     Sop\n",
       "29     Sop\n",
       "31     Sop\n",
       "33     Sop\n",
       "34     Sop\n",
       "35     Sop\n",
       "36     Sop\n",
       "37     Sop\n",
       "38     Fre\n",
       "39     Fre\n",
       "41     Fre\n",
       "42     Fre\n",
       "43     Fre\n",
       "44     Fre\n",
       "45     Fre\n",
       "46     Fre\n",
       "47     Fre\n",
       "48     Fre\n",
       "49     Fre\n",
       "50     Fre\n",
       "51     Fre\n",
       "53     Fre\n",
       "54    None\n",
       "55    None\n",
       "56    None\n",
       "57    None\n",
       "58    None\n",
       "Name: Year, dtype: object"
      ]
     },
     "execution_count": 18,
     "metadata": {},
     "output_type": "execute_result"
    }
   ],
   "source": [
    "gpa.Year.apply(school_calendar_mapping.get)"
   ]
  },
  {
   "cell_type": "code",
   "execution_count": 27,
   "metadata": {},
   "outputs": [
    {
     "name": "stderr",
     "output_type": "stream",
     "text": [
      "C:\\Users\\Njand\\Anaconda3\\lib\\site-packages\\ipykernel_launcher.py:3: SettingWithCopyWarning: \n",
      "A value is trying to be set on a copy of a slice from a DataFrame.\n",
      "Try using .loc[row_indexer,col_indexer] = value instead\n",
      "\n",
      "See the caveats in the documentation: http://pandas.pydata.org/pandas-docs/stable/indexing.html#indexing-view-versus-copy\n",
      "  This is separate from the ipykernel package so we can avoid doing imports until\n"
     ]
    }
   ],
   "source": [
    "gpa[\"Standing\"] = gpa.apply(\n",
    "    lambda x: school_calendar_mapping.get(x.Year+1) if x.Quarter == \"Fall\" else school_calendar_mapping.get(x.Year),\n",
    "    axis = 1\n",
    ")"
   ]
  },
  {
   "cell_type": "code",
   "execution_count": 35,
   "metadata": {},
   "outputs": [
    {
     "data": {
      "text/plain": [
       "<matplotlib.axes._subplots.AxesSubplot at 0x1f86b261160>"
      ]
     },
     "execution_count": 35,
     "metadata": {},
     "output_type": "execute_result"
    },
    {
     "data": {
      "image/png": "[encoded data removed]",
      "text/plain": [
       "<matplotlib.figure.Figure at 0x1f86b1c99e8>"
      ]
     },
     "metadata": {},
     "output_type": "display_data"
    }
   ],
   "source": [
    "gpa.plot(x=['Standing'], y='Grade', title='GPA over Time', sharex=\"False\")"
   ]
  },
  {
   "cell_type": "code",
   "execution_count": 80,
   "metadata": {},
   "outputs": [],
   "source": [
    "gpa_per_quarter_df = pandas.DataFrame(gpa_per_quarter)"
   ]
  },
  {
   "cell_type": "code",
   "execution_count": 88,
   "metadata": {},
   "outputs": [],
   "source": [
    "gpa_per_quarter_df = gpa_per_quarter_df.reset_index()"
   ]
  },
  {
   "cell_type": "code",
   "execution_count": null,
   "metadata": {},
   "outputs": [],
   "source": []
  },
  {
   "cell_type": "code",
   "execution_count": 93,
   "metadata": {},
   "outputs": [],
   "source": [
    "gpa_per_quarter_df[\"Standing\"] = gpa_per_quarter_df.apply(\n",
    "    lambda x: school_calendar_mapping.get(x.Year+1) if x.Quarter == \"Fall\" else school_calendar_mapping.get(x.Year),\n",
    "    axis=1\n",
    ")"
   ]
  },
  {
   "cell_type": "code",
   "execution_count": 94,
   "metadata": {},
   "outputs": [],
   "source": [
    "gpa_per_quarter_df = gpa_per_quarter_df.rename(lambda x: \"Grade\" if x == 0 else x, axis='columns')"
   ]
  },
  {
   "cell_type": "code",
   "execution_count": 96,
   "metadata": {},
   "outputs": [],
   "source": [
    "standing_ord = {\"Fre\": 0, \"Sop\": 1, \"Jun\": 2, \"Sen\": 3, \"Mas\": 4}"
   ]
  },
  {
   "cell_type": "code",
   "execution_count": 99,
   "metadata": {},
   "outputs": [],
   "source": [
    "gpa_per_quarter_df[\"StandingOrd\"] = gpa_per_quarter_df.Standing.apply(standing_ord.get)"
   ]
  },
  {
   "cell_type": "code",
   "execution_count": 102,
   "metadata": {},
   "outputs": [
    {
     "data": {
      "text/plain": [
       "<matplotlib.axes._subplots.AxesSubplot at 0x1f86c505358>"
      ]
     },
     "execution_count": 102,
     "metadata": {},
     "output_type": "execute_result"
    },
    {
     "data": {
      "image/png": "[encoded data removed]",
      "text/plain": [
       "<matplotlib.figure.Figure at 0x1f86c4d0828>"
      ]
     },
     "metadata": {},
     "output_type": "display_data"
    }
   ],
   "source": [
    "gpa_per_quarter_df.plot(x=[\"StandingOrd\", \"Year\"], y=\"Grade\")"
   ]
  },
  {
   "cell_type": "code",
   "execution_count": 103,
   "metadata": {},
   "outputs": [
    {
     "data": {
      "text/html": [
       "<div>\n",
       "<style scoped>\n",
       "    .dataframe tbody tr th:only-of-type {\n",
       "        vertical-align: middle;\n",
       "    }\n",
       "\n",
       "    .dataframe tbody tr th {\n",
       "        vertical-align: top;\n",
       "    }\n",
       "\n",
       "    .dataframe thead th {\n",
       "        text-align: right;\n",
       "    }\n",
       "</style>\n",
       "<table border=\"1\" class=\"dataframe\">\n",
       "  <thead>\n",
       "    <tr style=\"text-align: right;\">\n",
       "      <th></th>\n",
       "      <th>Year</th>\n",
       "      <th>QuarterOrd</th>\n",
       "      <th>Quarter</th>\n",
       "      <th>Grade</th>\n",
       "      <th>Standing</th>\n",
       "      <th>StandingOrd</th>\n",
       "    </tr>\n",
       "  </thead>\n",
       "  <tbody>\n",
       "    <tr>\n",
       "      <th>0</th>\n",
       "      <td>2013</td>\n",
       "      <td>0</td>\n",
       "      <td>Fall</td>\n",
       "      <td>4.000000</td>\n",
       "      <td>Fre</td>\n",
       "      <td>0</td>\n",
       "    </tr>\n",
       "    <tr>\n",
       "      <th>1</th>\n",
       "      <td>2014</td>\n",
       "      <td>0</td>\n",
       "      <td>Fall</td>\n",
       "      <td>3.727273</td>\n",
       "      <td>Sop</td>\n",
       "      <td>1</td>\n",
       "    </tr>\n",
       "    <tr>\n",
       "      <th>2</th>\n",
       "      <td>2014</td>\n",
       "      <td>1</td>\n",
       "      <td>Win</td>\n",
       "      <td>3.733333</td>\n",
       "      <td>Fre</td>\n",
       "      <td>0</td>\n",
       "    </tr>\n",
       "    <tr>\n",
       "      <th>3</th>\n",
       "      <td>2014</td>\n",
       "      <td>2</td>\n",
       "      <td>Spr</td>\n",
       "      <td>3.805882</td>\n",
       "      <td>Fre</td>\n",
       "      <td>0</td>\n",
       "    </tr>\n",
       "    <tr>\n",
       "      <th>4</th>\n",
       "      <td>2014</td>\n",
       "      <td>3</td>\n",
       "      <td>Sum</td>\n",
       "      <td>3.863636</td>\n",
       "      <td>Fre</td>\n",
       "      <td>0</td>\n",
       "    </tr>\n",
       "    <tr>\n",
       "      <th>5</th>\n",
       "      <td>2015</td>\n",
       "      <td>0</td>\n",
       "      <td>Fall</td>\n",
       "      <td>3.786667</td>\n",
       "      <td>Jun</td>\n",
       "      <td>2</td>\n",
       "    </tr>\n",
       "    <tr>\n",
       "      <th>6</th>\n",
       "      <td>2015</td>\n",
       "      <td>1</td>\n",
       "      <td>Win</td>\n",
       "      <td>3.728571</td>\n",
       "      <td>Sop</td>\n",
       "      <td>1</td>\n",
       "    </tr>\n",
       "    <tr>\n",
       "      <th>7</th>\n",
       "      <td>2015</td>\n",
       "      <td>2</td>\n",
       "      <td>Spr</td>\n",
       "      <td>4.000000</td>\n",
       "      <td>Sop</td>\n",
       "      <td>1</td>\n",
       "    </tr>\n",
       "    <tr>\n",
       "      <th>8</th>\n",
       "      <td>2015</td>\n",
       "      <td>3</td>\n",
       "      <td>Sum</td>\n",
       "      <td>4.000000</td>\n",
       "      <td>Sop</td>\n",
       "      <td>1</td>\n",
       "    </tr>\n",
       "    <tr>\n",
       "      <th>9</th>\n",
       "      <td>2016</td>\n",
       "      <td>0</td>\n",
       "      <td>Fall</td>\n",
       "      <td>4.000000</td>\n",
       "      <td>Sen</td>\n",
       "      <td>3</td>\n",
       "    </tr>\n",
       "    <tr>\n",
       "      <th>10</th>\n",
       "      <td>2016</td>\n",
       "      <td>1</td>\n",
       "      <td>Win</td>\n",
       "      <td>4.000000</td>\n",
       "      <td>Jun</td>\n",
       "      <td>2</td>\n",
       "    </tr>\n",
       "    <tr>\n",
       "      <th>11</th>\n",
       "      <td>2016</td>\n",
       "      <td>2</td>\n",
       "      <td>Spr</td>\n",
       "      <td>4.000000</td>\n",
       "      <td>Jun</td>\n",
       "      <td>2</td>\n",
       "    </tr>\n",
       "    <tr>\n",
       "      <th>12</th>\n",
       "      <td>2017</td>\n",
       "      <td>0</td>\n",
       "      <td>Fall</td>\n",
       "      <td>4.000000</td>\n",
       "      <td>Mas</td>\n",
       "      <td>4</td>\n",
       "    </tr>\n",
       "    <tr>\n",
       "      <th>13</th>\n",
       "      <td>2017</td>\n",
       "      <td>1</td>\n",
       "      <td>Win</td>\n",
       "      <td>3.663636</td>\n",
       "      <td>Sen</td>\n",
       "      <td>3</td>\n",
       "    </tr>\n",
       "    <tr>\n",
       "      <th>14</th>\n",
       "      <td>2017</td>\n",
       "      <td>2</td>\n",
       "      <td>Spr</td>\n",
       "      <td>3.923529</td>\n",
       "      <td>Sen</td>\n",
       "      <td>3</td>\n",
       "    </tr>\n",
       "    <tr>\n",
       "      <th>15</th>\n",
       "      <td>2018</td>\n",
       "      <td>1</td>\n",
       "      <td>Win</td>\n",
       "      <td>3.591667</td>\n",
       "      <td>Mas</td>\n",
       "      <td>4</td>\n",
       "    </tr>\n",
       "    <tr>\n",
       "      <th>16</th>\n",
       "      <td>2018</td>\n",
       "      <td>2</td>\n",
       "      <td>Spr</td>\n",
       "      <td>3.900000</td>\n",
       "      <td>Mas</td>\n",
       "      <td>4</td>\n",
       "    </tr>\n",
       "  </tbody>\n",
       "</table>\n",
       "</div>"
      ],
      "text/plain": [
       "    Year  QuarterOrd Quarter     Grade Standing  StandingOrd\n",
       "0   2013           0    Fall  4.000000      Fre            0\n",
       "1   2014           0    Fall  3.727273      Sop            1\n",
       "2   2014           1     Win  3.733333      Fre            0\n",
       "3   2014           2     Spr  3.805882      Fre            0\n",
       "4   2014           3     Sum  3.863636      Fre            0\n",
       "5   2015           0    Fall  3.786667      Jun            2\n",
       "6   2015           1     Win  3.728571      Sop            1\n",
       "7   2015           2     Spr  4.000000      Sop            1\n",
       "8   2015           3     Sum  4.000000      Sop            1\n",
       "9   2016           0    Fall  4.000000      Sen            3\n",
       "10  2016           1     Win  4.000000      Jun            2\n",
       "11  2016           2     Spr  4.000000      Jun            2\n",
       "12  2017           0    Fall  4.000000      Mas            4\n",
       "13  2017           1     Win  3.663636      Sen            3\n",
       "14  2017           2     Spr  3.923529      Sen            3\n",
       "15  2018           1     Win  3.591667      Mas            4\n",
       "16  2018           2     Spr  3.900000      Mas            4"
      ]
     },
     "execution_count": 103,
     "metadata": {},
     "output_type": "execute_result"
    }
   ],
   "source": [
    "gpa_per_quarter_df"
   ]
  }
 ],
 "metadata": {
  "kernelspec": {
   "display_name": "Python 3",
   "language": "python",
   "name": "python3"
  },
  "language_info": {
   "codemirror_mode": {
    "name": "ipython",
    "version": 3
   },
   "file_extension": ".py",
   "mimetype": "text/x-python",
   "name": "python",
   "nbconvert_exporter": "python",
   "pygments_lexer": "ipython3",
   "version": "3.6.4"
  }
 },
 "nbformat": 4,
 "nbformat_minor": 2
}
